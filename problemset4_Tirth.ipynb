{
  "nbformat": 4,
  "nbformat_minor": 0,
  "metadata": {
    "colab": {
      "name": "problemset4_Tirth.ipynb",
      "provenance": [],
      "collapsed_sections": []
    },
    "kernelspec": {
      "display_name": "Python 3",
      "name": "python3"
    },
    "accelerator": "GPU"
  },
  "cells": [
    {
      "cell_type": "markdown",
      "metadata": {
        "id": "uSprZ58pVKCg"
      },
      "source": [
        "# Image Classification using Convolution Neural Network\n",
        "The main task is to build a classifier, that can help us to sort the\n",
        "scans into three categories like healthy patients, pre-existing conditions, and Serious condition who needs immediate attention."
      ]
    },
    {
      "cell_type": "code",
      "metadata": {
        "id": "NZlGMvKGxVSH"
      },
      "source": [
        "#Importing Necessary Libraries\n",
        "import tensorflow as tf\n",
        "from tensorflow.keras import layers, models\n",
        "import numpy as np\n",
        "import pandas as pd\n",
        "import matplotlib.pyplot as plt\n",
        "from sklearn.model_selection import train_test_split"
      ],
      "execution_count": 3,
      "outputs": []
    },
    {
      "cell_type": "markdown",
      "metadata": {
        "id": "cbRBonDuW_Z6"
      },
      "source": [
        "# Data Exploration"
      ]
    },
    {
      "cell_type": "code",
      "metadata": {
        "colab": {
          "base_uri": "https://localhost:8080/"
        },
        "id": "0F1INtQpiXRP",
        "outputId": "1431fc6b-9738-43a9-f62e-054a9495baca"
      },
      "source": [
        "#Uploading the files to Google Colab\n",
        "from google.colab import drive\n",
        "drive.mount('/content/drive')"
      ],
      "execution_count": 4,
      "outputs": [
        {
          "output_type": "stream",
          "text": [
            "Drive already mounted at /content/drive; to attempt to forcibly remount, call drive.mount(\"/content/drive\", force_remount=True).\n"
          ],
          "name": "stdout"
        }
      ]
    },
    {
      "cell_type": "code",
      "metadata": {
        "id": "hCr5tJTMKyc7"
      },
      "source": [
        "#Loading the Necessary Files\n",
        "image_data=np.load('/content/drive/MyDrive/Colab Data/ps4_trainvalid_images.npy')\n",
        "label_data=pd.read_csv('/content/drive/MyDrive/Colab Data/ps4_trainvalid_labels.csv')"
      ],
      "execution_count": 5,
      "outputs": []
    },
    {
      "cell_type": "code",
      "metadata": {
        "colab": {
          "base_uri": "https://localhost:8080/"
        },
        "id": "MbYUz9HWRn4O",
        "outputId": "6d74c509-dca8-4b49-9eca-3ad3bc2d7c8f"
      },
      "source": [
        "#Shape of the Image Dataset\n",
        "print(\"Shape of the Image Dataset=\",image_data.shape)"
      ],
      "execution_count": 6,
      "outputs": [
        {
          "output_type": "stream",
          "text": [
            "Shape of the Image Dataset= (13260, 64, 64, 1)\n"
          ],
          "name": "stdout"
        }
      ]
    },
    {
      "cell_type": "code",
      "metadata": {
        "colab": {
          "base_uri": "https://localhost:8080/"
        },
        "id": "uK07C9aqN7tk",
        "outputId": "06009c6b-3804-43fd-a9dd-37887d41f975"
      },
      "source": [
        "#Shape of the Label\n",
        "print(\"Shape of the Label Dataset=\",label_data.shape)\n",
        "label_data[\"Label\"].value_counts()"
      ],
      "execution_count": 7,
      "outputs": [
        {
          "output_type": "stream",
          "text": [
            "Shape of the Label Dataset= (13260, 2)\n"
          ],
          "name": "stdout"
        },
        {
          "output_type": "execute_result",
          "data": {
            "text/plain": [
              "0    10506\n",
              "1     2372\n",
              "2      382\n",
              "Name: Label, dtype: int64"
            ]
          },
          "metadata": {
            "tags": []
          },
          "execution_count": 7
        }
      ]
    },
    {
      "cell_type": "code",
      "metadata": {
        "id": "fH0f7A6Osxzx"
      },
      "source": [
        "#Checking Which Id is in Class-0,1 and 2 alternatively just for Visualization Purpose\n",
        "c0 = []              \n",
        "for i in label_data['Id']:\n",
        "    if label_data['Label'][i] == 0:\n",
        "        c0.append(i)\n",
        "#print(\"Id of Class 0:\",c0)\n"
      ],
      "execution_count": 8,
      "outputs": []
    },
    {
      "cell_type": "code",
      "metadata": {
        "colab": {
          "base_uri": "https://localhost:8080/",
          "height": 182
        },
        "id": "BLkwkyk4gJUw",
        "outputId": "4770fb00-3cac-4703-d2ab-4615f0b8fe10"
      },
      "source": [
        "#X-Ray Visualization\n",
        "from keras.preprocessing.image import array_to_img\n",
        "i0 = array_to_img(image_data[0])\n",
        "i1 = array_to_img(image_data[7])\n",
        "i2 = array_to_img(image_data[27])\n",
        "\n",
        "#Plotting the images from dataset\n",
        "fig, axes = plt.subplots(1, 3, figsize = (8, 4))\n",
        "axes[0].imshow(i0)\n",
        "axes[1].imshow(i1)\n",
        "axes[2].imshow(i2)\n",
        "plt.show()"
      ],
      "execution_count": 9,
      "outputs": [
        {
          "output_type": "display_data",
          "data": {
            "image/png": "[encoded data removed]",
            "text/plain": [
              "<Figure size 576x288 with 3 Axes>"
            ]
          },
          "metadata": {
            "tags": [],
            "needs_background": "light"
          }
        }
      ]
    },
    {
      "cell_type": "code",
      "metadata": {
        "colab": {
          "base_uri": "https://localhost:8080/",
          "height": 296
        },
        "id": "E5K3VbX6O-Co",
        "outputId": "9be8757a-195e-4bb0-e435-5aebb6092d1a"
      },
      "source": [
        "#Plotting the Count Plot to visualize the number of Label Classes\n",
        "import seaborn as sns\n",
        "sns.set_style('whitegrid')\n",
        "sns.countplot(x='Label',hue='Label',data=label_data,palette='cubehelix')"
      ],
      "execution_count": 10,
      "outputs": [
        {
          "output_type": "execute_result",
          "data": {
            "text/plain": [
              "<matplotlib.axes._subplots.AxesSubplot at 0x7fa5167efb10>"
            ]
          },
          "metadata": {
            "tags": []
          },
          "execution_count": 10
        },
        {
          "output_type": "display_data",
          "data": {
            "image/png": "[encoded data removed]",
            "text/plain": [
              "<Figure size 432x288 with 1 Axes>"
            ]
          },
          "metadata": {
            "tags": []
          }
        }
      ]
    },
    {
      "cell_type": "code",
      "metadata": {
        "colab": {
          "base_uri": "https://localhost:8080/"
        },
        "id": "2VB-mCFilv9Q",
        "outputId": "af3744a8-edc8-4995-c789-a70b0e459fc5"
      },
      "source": [
        "#Original Count of Labels\n",
        "from collections import Counter\n",
        "labels = Counter(label_data[\"Label\"])\n",
        "print(labels)"
      ],
      "execution_count": 11,
      "outputs": [
        {
          "output_type": "stream",
          "text": [
            "Counter({0: 10506, 1: 2372, 2: 382})\n"
          ],
          "name": "stdout"
        }
      ]
    },
    {
      "cell_type": "markdown",
      "metadata": {
        "id": "KhKnLdmiXMxT"
      },
      "source": [
        "#Data Augmentation\n",
        "After Exploring the dataset, we knew that the class labels are highly imbalanced. To deal with such problems, I need to construct more balanced data using Data Augmentation technique to increase the count of minority label classes."
      ]
    },
    {
      "cell_type": "code",
      "metadata": {
        "id": "DatHDJh__TYY"
      },
      "source": [
        "#Taking only the \"Label\"Columns from Label Dataset\n",
        "label_data=label_data[\"Label\"]"
      ],
      "execution_count": 12,
      "outputs": []
    },
    {
      "cell_type": "code",
      "metadata": {
        "colab": {
          "base_uri": "https://localhost:8080/"
        },
        "id": "Aifu81mv_tJ2",
        "outputId": "0c00f0ca-fa0e-455f-d5ff-72035aa2ed67"
      },
      "source": [
        "#Data Augmentation\n",
        "# List of Id of label 1\n",
        "lab_1 = []              \n",
        "for i in range(len(label_data)):\n",
        "    if label_data[i] == 1:\n",
        "        lab_1.append(i)\n",
        "len(lab_1)"
      ],
      "execution_count": 13,
      "outputs": [
        {
          "output_type": "execute_result",
          "data": {
            "text/plain": [
              "2372"
            ]
          },
          "metadata": {
            "tags": []
          },
          "execution_count": 13
        }
      ]
    },
    {
      "cell_type": "code",
      "metadata": {
        "id": "_sk5RyoJ_tGn"
      },
      "source": [
        "# Data Augmentation for Label 1\n",
        "from keras.preprocessing.image import ImageDataGenerator\n",
        "aug_label1 = []\n",
        "\n",
        "#Here I tried creating various number of images from 1 original image\n",
        "for i in range(0,8):\n",
        "    datagenerator = ImageDataGenerator(     \n",
        "                                       width_shift_range=0.1, \n",
        "                                       height_shift_range=0.2, \n",
        "                                       horizontal_flip = True, \n",
        "                                       vertical_flip=True,\n",
        "                                       brightness_range = [0.8, 1.6])\n",
        "    datagenerator.fit(image_data[lab_1])\n",
        "    for data in datagenerator.flow(image_data[lab_1], batch_size = 1000):\n",
        "        break\n",
        "    for k in data:\n",
        "        aug_label1.append(k)\n",
        "aug_label1 = np.array(aug_label1)"
      ],
      "execution_count": 14,
      "outputs": []
    },
    {
      "cell_type": "code",
      "metadata": {
        "colab": {
          "base_uri": "https://localhost:8080/"
        },
        "id": "eLNVrQhS_tDc",
        "outputId": "3065eac9-ab14-4289-e1a5-f31d8d4891db"
      },
      "source": [
        "# List of Id of label 2\n",
        "lab_2 = []              \n",
        "for i in range(len(label_data)):\n",
        "    if label_data[i] == 2:\n",
        "        lab_2.append(i)\n",
        "len(lab_2)"
      ],
      "execution_count": 15,
      "outputs": [
        {
          "output_type": "execute_result",
          "data": {
            "text/plain": [
              "382"
            ]
          },
          "metadata": {
            "tags": []
          },
          "execution_count": 15
        }
      ]
    },
    {
      "cell_type": "code",
      "metadata": {
        "id": "aHRdjZF0_tAT"
      },
      "source": [
        "# Data Augmentation for Label 1\n",
        "aug_label2 = []\n",
        "\n",
        "#Here I tried creating various number of images from 1 original image\n",
        "for i in range(0,27):\n",
        "    datagenerator = ImageDataGenerator(     \n",
        "                                       \n",
        "                                       width_shift_range=0.1, \n",
        "                                       height_shift_range=0.2, \n",
        "                                       horizontal_flip = True, \n",
        "                                       vertical_flip=True,\n",
        "                                       brightness_range = [0.8, 1.6])\n",
        "    datagenerator.fit(image_data[lab_2])\n",
        "    for data in datagenerator.flow(image_data[lab_2], batch_size = 3500):\n",
        "        break\n",
        "    for k in data:\n",
        "        aug_label2.append(k)\n",
        "aug_label2 = np.array(aug_label2)"
      ],
      "execution_count": 16,
      "outputs": []
    },
    {
      "cell_type": "code",
      "metadata": {
        "id": "CReB1Bj4_s9B"
      },
      "source": [
        "#Appending the augmented data and labels for label1 and label2 into actual dataset\n",
        "image_data = np.append(image_data,aug_label1,axis = 0)\n",
        "image_data = np.append(image_data,aug_label2,axis = 0)\n",
        "label_data = label_data.tolist()\n",
        "for i in range(len(aug_label1)):\n",
        "    label_data.append(1)\n",
        "for j in range(len(aug_label2)):\n",
        "    label_data.append(2)\n",
        "label_data = pd.Series(label_data)"
      ],
      "execution_count": 17,
      "outputs": []
    },
    {
      "cell_type": "code",
      "metadata": {
        "colab": {
          "base_uri": "https://localhost:8080/"
        },
        "id": "D-yo6hAE_sy_",
        "outputId": "11359fb2-a917-4b59-89fe-9b74eda9505e"
      },
      "source": [
        "#Shape of Updated Image Data\n",
        "image_data.shape"
      ],
      "execution_count": 18,
      "outputs": [
        {
          "output_type": "execute_result",
          "data": {
            "text/plain": [
              "(31574, 64, 64, 1)"
            ]
          },
          "metadata": {
            "tags": []
          },
          "execution_count": 18
        }
      ]
    },
    {
      "cell_type": "code",
      "metadata": {
        "colab": {
          "base_uri": "https://localhost:8080/"
        },
        "id": "85urLbUzmLls",
        "outputId": "f60c86b4-9b53-46fb-848e-f0cf9c0b2120"
      },
      "source": [
        "#Shape of Updated Label Data\n",
        "label_data.shape"
      ],
      "execution_count": 19,
      "outputs": [
        {
          "output_type": "execute_result",
          "data": {
            "text/plain": [
              "(31574,)"
            ]
          },
          "metadata": {
            "tags": []
          },
          "execution_count": 19
        }
      ]
    },
    {
      "cell_type": "code",
      "metadata": {
        "colab": {
          "base_uri": "https://localhost:8080/"
        },
        "id": "w2dV_TXABNFA",
        "outputId": "133bbff2-4030-474f-87b7-553127e1fa36"
      },
      "source": [
        "#Counter of Labels\n",
        "from collections import Counter\n",
        "labels = Counter(label_data)\n",
        "print(labels)"
      ],
      "execution_count": 20,
      "outputs": [
        {
          "output_type": "stream",
          "text": [
            "Counter({2: 10696, 0: 10506, 1: 10372})\n"
          ],
          "name": "stdout"
        }
      ]
    },
    {
      "cell_type": "code",
      "metadata": {
        "id": "f14H-u2RmLe7"
      },
      "source": [
        "#Transforming a class vector (integers) to binary class matrix.\n",
        "from tensorflow.keras.utils import to_categorical\n",
        "label_data = to_categorical(label_data)"
      ],
      "execution_count": 21,
      "outputs": []
    },
    {
      "cell_type": "code",
      "metadata": {
        "id": "nUF50Z0Cm3nv"
      },
      "source": [
        "#Performing Test-Train-Valid Split in the dataset\n",
        "from sklearn.model_selection import train_test_split\n",
        "X_train, X_test, y_train, y_test = train_test_split(image_data, label_data, test_size = 0.2,shuffle=True, random_state = 42)\n",
        "X_train, X_val, y_train, y_val = train_test_split(X_train, y_train, test_size=0.20,shuffle=True, random_state=42)"
      ],
      "execution_count": 22,
      "outputs": []
    },
    {
      "cell_type": "markdown",
      "metadata": {
        "id": "RfS4NHFTmYvC"
      },
      "source": [
        "# Model Selection\n",
        " For Model Selection, I built 4 architectures of CNN Model using the architecture of LeNet-5, VGGNet, AlexNet with various Conv2D layers followed by MaxPooling2D layers and fitted them with different epochs and batch size. Moreover, I also built a custom architecture with comparatively less complex structure than pre-existing models."
      ]
    },
    {
      "cell_type": "code",
      "metadata": {
        "colab": {
          "base_uri": "https://localhost:8080/"
        },
        "id": "85easc0y2wMQ",
        "outputId": "c9f129f8-c3ff-4d2b-9411-9445c7723e00"
      },
      "source": [
        "pip install tensorflow-addons"
      ],
      "execution_count": 23,
      "outputs": [
        {
          "output_type": "stream",
          "text": [
            "Collecting tensorflow-addons\n",
            "\u001b[?25l  Downloading https://files.pythonhosted.org/packages/74/e3/56d2fe76f0bb7c88ed9b2a6a557e25e83e252aec08f13de34369cd850a0b/tensorflow_addons-0.12.1-cp37-cp37m-manylinux2010_x86_64.whl (703kB)\n",
            "\r\u001b[K     |▌                               | 10kB 17.0MB/s eta 0:00:01\r\u001b[K     |█                               | 20kB 18.4MB/s eta 0:00:01\r\u001b[K     |█▍                              | 30kB 15.7MB/s eta 0:00:01\r\u001b[K     |█▉                              | 40kB 14.3MB/s eta 0:00:01\r\u001b[K     |██▎                             | 51kB 11.3MB/s eta 0:00:01\r\u001b[K     |██▉                             | 61kB 12.9MB/s eta 0:00:01\r\u001b[K     |███▎                            | 71kB 10.2MB/s eta 0:00:01\r\u001b[K     |███▊                            | 81kB 10.9MB/s eta 0:00:01\r\u001b[K     |████▏                           | 92kB 10.8MB/s eta 0:00:01\r\u001b[K     |████▋                           | 102kB 10.8MB/s eta 0:00:01\r\u001b[K     |█████▏                          | 112kB 10.8MB/s eta 0:00:01\r\u001b[K     |█████▋                          | 122kB 10.8MB/s eta 0:00:01\r\u001b[K     |██████                          | 133kB 10.8MB/s eta 0:00:01\r\u001b[K     |██████▌                         | 143kB 10.8MB/s eta 0:00:01\r\u001b[K     |███████                         | 153kB 10.8MB/s eta 0:00:01\r\u001b[K     |███████▌                        | 163kB 10.8MB/s eta 0:00:01\r\u001b[K     |████████                        | 174kB 10.8MB/s eta 0:00:01\r\u001b[K     |████████▍                       | 184kB 10.8MB/s eta 0:00:01\r\u001b[K     |████████▉                       | 194kB 10.8MB/s eta 0:00:01\r\u001b[K     |█████████▎                      | 204kB 10.8MB/s eta 0:00:01\r\u001b[K     |█████████▉                      | 215kB 10.8MB/s eta 0:00:01\r\u001b[K     |██████████▎                     | 225kB 10.8MB/s eta 0:00:01\r\u001b[K     |██████████▊                     | 235kB 10.8MB/s eta 0:00:01\r\u001b[K     |███████████▏                    | 245kB 10.8MB/s eta 0:00:01\r\u001b[K     |███████████▋                    | 256kB 10.8MB/s eta 0:00:01\r\u001b[K     |████████████▏                   | 266kB 10.8MB/s eta 0:00:01\r\u001b[K     |████████████▋                   | 276kB 10.8MB/s eta 0:00:01\r\u001b[K     |█████████████                   | 286kB 10.8MB/s eta 0:00:01\r\u001b[K     |█████████████▌                  | 296kB 10.8MB/s eta 0:00:01\r\u001b[K     |██████████████                  | 307kB 10.8MB/s eta 0:00:01\r\u001b[K     |██████████████▍                 | 317kB 10.8MB/s eta 0:00:01\r\u001b[K     |███████████████                 | 327kB 10.8MB/s eta 0:00:01\r\u001b[K     |███████████████▍                | 337kB 10.8MB/s eta 0:00:01\r\u001b[K     |███████████████▉                | 348kB 10.8MB/s eta 0:00:01\r\u001b[K     |████████████████▎               | 358kB 10.8MB/s eta 0:00:01\r\u001b[K     |████████████████▊               | 368kB 10.8MB/s eta 0:00:01\r\u001b[K     |█████████████████▎              | 378kB 10.8MB/s eta 0:00:01\r\u001b[K     |█████████████████▊              | 389kB 10.8MB/s eta 0:00:01\r\u001b[K     |██████████████████▏             | 399kB 10.8MB/s eta 0:00:01\r\u001b[K     |██████████████████▋             | 409kB 10.8MB/s eta 0:00:01\r\u001b[K     |███████████████████             | 419kB 10.8MB/s eta 0:00:01\r\u001b[K     |███████████████████▋            | 430kB 10.8MB/s eta 0:00:01\r\u001b[K     |████████████████████            | 440kB 10.8MB/s eta 0:00:01\r\u001b[K     |████████████████████▌           | 450kB 10.8MB/s eta 0:00:01\r\u001b[K     |█████████████████████           | 460kB 10.8MB/s eta 0:00:01\r\u001b[K     |█████████████████████▍          | 471kB 10.8MB/s eta 0:00:01\r\u001b[K     |██████████████████████          | 481kB 10.8MB/s eta 0:00:01\r\u001b[K     |██████████████████████▍         | 491kB 10.8MB/s eta 0:00:01\r\u001b[K     |██████████████████████▉         | 501kB 10.8MB/s eta 0:00:01\r\u001b[K     |███████████████████████▎        | 512kB 10.8MB/s eta 0:00:01\r\u001b[K     |███████████████████████▊        | 522kB 10.8MB/s eta 0:00:01\r\u001b[K     |████████████████████████▎       | 532kB 10.8MB/s eta 0:00:01\r\u001b[K     |████████████████████████▊       | 542kB 10.8MB/s eta 0:00:01\r\u001b[K     |█████████████████████████▏      | 552kB 10.8MB/s eta 0:00:01\r\u001b[K     |█████████████████████████▋      | 563kB 10.8MB/s eta 0:00:01\r\u001b[K     |██████████████████████████      | 573kB 10.8MB/s eta 0:00:01\r\u001b[K     |██████████████████████████▋     | 583kB 10.8MB/s eta 0:00:01\r\u001b[K     |███████████████████████████     | 593kB 10.8MB/s eta 0:00:01\r\u001b[K     |███████████████████████████▌    | 604kB 10.8MB/s eta 0:00:01\r\u001b[K     |████████████████████████████    | 614kB 10.8MB/s eta 0:00:01\r\u001b[K     |████████████████████████████▍   | 624kB 10.8MB/s eta 0:00:01\r\u001b[K     |████████████████████████████▉   | 634kB 10.8MB/s eta 0:00:01\r\u001b[K     |█████████████████████████████▍  | 645kB 10.8MB/s eta 0:00:01\r\u001b[K     |█████████████████████████████▉  | 655kB 10.8MB/s eta 0:00:01\r\u001b[K     |██████████████████████████████▎ | 665kB 10.8MB/s eta 0:00:01\r\u001b[K     |██████████████████████████████▊ | 675kB 10.8MB/s eta 0:00:01\r\u001b[K     |███████████████████████████████▏| 686kB 10.8MB/s eta 0:00:01\r\u001b[K     |███████████████████████████████▊| 696kB 10.8MB/s eta 0:00:01\r\u001b[K     |████████████████████████████████| 706kB 10.8MB/s \n",
            "\u001b[?25hRequirement already satisfied: typeguard>=2.7 in /usr/local/lib/python3.7/dist-packages (from tensorflow-addons) (2.7.1)\n",
            "Installing collected packages: tensorflow-addons\n",
            "Successfully installed tensorflow-addons-0.12.1\n"
          ],
          "name": "stdout"
        }
      ]
    },
    {
      "cell_type": "code",
      "metadata": {
        "id": "oaKvp19vmLcA"
      },
      "source": [
        "#Importing Necessary Libraries for training CNN\n",
        "import keras\n",
        "import keras.utils\n",
        "from sklearn.metrics import f1_score\n",
        "from tensorflow.keras.layers import Input, Lambda, Dense, Flatten,Conv2D\n",
        "from tensorflow.keras.models import Model\n",
        "from tensorflow.keras.models import Sequential\n",
        "from tensorflow.keras.layers import MaxPooling2D\n",
        "from tensorflow.keras.callbacks import EarlyStopping\n",
        "from tensorflow.keras.optimizers import Adam\n",
        "from keras.layers.core import Dense, Activation, Dropout\n",
        "from keras.regularizers import l1\n",
        "import tensorflow_addons as tfa\n",
        "from keras.models import load_model"
      ],
      "execution_count": 24,
      "outputs": []
    },
    {
      "cell_type": "markdown",
      "metadata": {
        "id": "l03rjA9Dqg3x"
      },
      "source": [
        "# leNet5 Architecture\n",
        "Using the Architecture of LeNet5, I created 2 Conv2D layers with relu activation and Padding followed by MaxPooling Layer and 2 Dense Layers at end. Moreover, I also tried Kernel and Dense Layer Absolute Weight Regularizer L1 with Bias Regularizer to avoid bias in classification tasks."
      ]
    },
    {
      "cell_type": "code",
      "metadata": {
        "id": "lQxZYaNzmLYz",
        "colab": {
          "base_uri": "https://localhost:8080/"
        },
        "outputId": "7988258e-b4f7-4df7-dd5e-27ac160c2fc5"
      },
      "source": [
        "#Training Convolutional Neural Network(LeNet5) from scratch\n",
        "model=Sequential()\n",
        "model.add(Conv2D(filters=20,kernel_size=(3,3),padding=\"same\",activation=\"relu\",input_shape=(64,64,1)))\n",
        "model.add(MaxPooling2D(pool_size=(2,2),strides=None, padding=\"same\"))\n",
        "\n",
        "model.add(Conv2D(filters=50,kernel_size=(3,3),padding=\"same\",activation =\"relu\"))\n",
        "#model.add(Dropout(0.20))\n",
        "model.add(MaxPooling2D(pool_size=(2,2),strides=None, padding=\"same\"))\n",
        "\n",
        "model.add(Flatten(input_shape=(64,64,1)))\n",
        "model.add(Dense(512,activation=\"relu\"))\n",
        "model.add(Dense(3,activation=\"softmax\"))\n",
        "\n",
        "#Model Summary of LeNet 5 Architecture\n",
        "model.summary()"
      ],
      "execution_count": 25,
      "outputs": [
        {
          "output_type": "stream",
          "text": [
            "Model: \"sequential\"\n",
            "_________________________________________________________________\n",
            "Layer (type)                 Output Shape              Param #   \n",
            "=================================================================\n",
            "conv2d (Conv2D)              (None, 64, 64, 20)        200       \n",
            "_________________________________________________________________\n",
            "max_pooling2d (MaxPooling2D) (None, 32, 32, 20)        0         \n",
            "_________________________________________________________________\n",
            "conv2d_1 (Conv2D)            (None, 32, 32, 50)        9050      \n",
            "_________________________________________________________________\n",
            "max_pooling2d_1 (MaxPooling2 (None, 16, 16, 50)        0         \n",
            "_________________________________________________________________\n",
            "flatten (Flatten)            (None, 12800)             0         \n",
            "_________________________________________________________________\n",
            "dense (Dense)                (None, 512)               6554112   \n",
            "_________________________________________________________________\n",
            "dense_1 (Dense)              (None, 3)                 1539      \n",
            "=================================================================\n",
            "Total params: 6,564,901\n",
            "Trainable params: 6,564,901\n",
            "Non-trainable params: 0\n",
            "_________________________________________________________________\n"
          ],
          "name": "stdout"
        }
      ]
    },
    {
      "cell_type": "code",
      "metadata": {
        "id": "EbrKvtICxmka"
      },
      "source": [
        "#Model Compilation (With Matrics including Macro and Micro F1 Score and AUC Score)\n",
        "opt = Adam(lr=0.0001)\n",
        "model.compile(optimizer=opt,\n",
        "               loss=tf.losses.CategoricalCrossentropy(from_logits=False),\n",
        "               metrics=[\"AUC\",\"accuracy\",\n",
        "                        tf.metrics.AUC(multi_label=True,name='auc_multi',label_weights=[0.1,0.4,0.6]),\n",
        "                        tfa.metrics.F1Score(num_classes=3, average='macro', name=\"F1_macro\"),\n",
        "                        tfa.metrics.F1Score(num_classes=3, average='micro', name=\"F1_micro\"),\n",
        "               ])"
      ],
      "execution_count": 26,
      "outputs": []
    },
    {
      "cell_type": "code",
      "metadata": {
        "id": "URqTEnjDmLSL",
        "colab": {
          "base_uri": "https://localhost:8080/"
        },
        "outputId": "40808b46-fad3-4521-a54e-e4e29d5401a3"
      },
      "source": [
        "#Fitting the Model\n",
        "lenet=model.fit(X_train, y_train,\n",
        "               callbacks=[EarlyStopping(monitor='val_loss', mode='min' , verbose =1, patience = 2)],\n",
        "          validation_data=(X_val,y_val), batch_size=100,\n",
        "          epochs=30)"
      ],
      "execution_count": 27,
      "outputs": [
        {
          "output_type": "stream",
          "text": [
            "Epoch 1/30\n",
            "203/203 [==============================] - 38s 35ms/step - loss: 17.6466 - auc: 0.6482 - accuracy: 0.4882 - auc_multi: 0.6069 - F1_macro: 0.4879 - F1_micro: 0.4882 - val_loss: 2.6052 - val_auc: 0.7199 - val_accuracy: 0.5578 - val_auc_multi: 0.7240 - val_F1_macro: 0.4784 - val_F1_micro: 0.5578\n",
            "Epoch 2/30\n",
            "203/203 [==============================] - 6s 30ms/step - loss: 1.7064 - auc: 0.7903 - accuracy: 0.6189 - auc_multi: 0.7243 - F1_macro: 0.6188 - F1_micro: 0.6189 - val_loss: 3.0815 - val_auc: 0.6312 - val_accuracy: 0.4070 - val_auc_multi: 0.6443 - val_F1_macro: 0.3268 - val_F1_micro: 0.4070\n",
            "Epoch 3/30\n",
            "203/203 [==============================] - 6s 30ms/step - loss: 1.1192 - auc: 0.8412 - accuracy: 0.6663 - auc_multi: 0.7792 - F1_macro: 0.6665 - F1_micro: 0.6663 - val_loss: 0.8406 - val_auc: 0.8431 - val_accuracy: 0.6490 - val_auc_multi: 0.7818 - val_F1_macro: 0.6602 - val_F1_micro: 0.6490\n",
            "Epoch 4/30\n",
            "203/203 [==============================] - 6s 30ms/step - loss: 0.8672 - auc: 0.8725 - accuracy: 0.6948 - auc_multi: 0.8087 - F1_macro: 0.6957 - F1_micro: 0.6948 - val_loss: 1.4552 - val_auc: 0.8064 - val_accuracy: 0.6002 - val_auc_multi: 0.7784 - val_F1_macro: 0.5371 - val_F1_micro: 0.6002\n",
            "Epoch 5/30\n",
            "203/203 [==============================] - 6s 30ms/step - loss: 0.6938 - auc: 0.8995 - accuracy: 0.7342 - auc_multi: 0.8474 - F1_macro: 0.7321 - F1_micro: 0.7342 - val_loss: 0.8871 - val_auc: 0.8620 - val_accuracy: 0.6649 - val_auc_multi: 0.8078 - val_F1_macro: 0.6532 - val_F1_micro: 0.6649\n",
            "Epoch 00005: early stopping\n"
          ],
          "name": "stdout"
        }
      ]
    },
    {
      "cell_type": "markdown",
      "metadata": {
        "id": "4kNgWeUfqqKh"
      },
      "source": [
        "#VGGNet Architecture\n",
        "Using the Architecture of VGGNet, I created 5 Conv2D layers with relu activation and Padding followed by 3 MaxPooling Layer and 2 Dense Layers at end.Moreover, I also tried Kernel and Dense Layer Absolute Weight Regularizer L1 with Bias Regularizer to avoid bias in classification tasks."
      ]
    },
    {
      "cell_type": "code",
      "metadata": {
        "id": "DY8-ZOtLmLPV",
        "colab": {
          "base_uri": "https://localhost:8080/"
        },
        "outputId": "07a5285a-6d27-48a0-aadd-1485e30a3d56"
      },
      "source": [
        "#Training Convolutional Neural Network from scratch (VGG)\n",
        "\n",
        "model2=Sequential()\n",
        "model2.add(Conv2D(filters=32,kernel_size=(3,3),padding=\"same\",activation=\"relu\",input_shape=(64,64,1)))\n",
        "model2.add(MaxPooling2D(pool_size=(2,2),strides=None, padding=\"same\"))\n",
        "\n",
        "model2.add(Conv2D(filters=64,kernel_size=(3,3),padding=\"same\",activation =\"relu\"))\n",
        "model2.add(Conv2D(filters=64,kernel_size=(3,3),padding=\"same\",activation =\"relu\"))\n",
        "model2.add(MaxPooling2D(pool_size=(2,2),strides=None, padding=\"same\"))\n",
        "#model2.add(Dropout(0.20))\n",
        "\n",
        "model2.add(Conv2D(filters=128,kernel_size=(3,3),padding=\"same\",activation=\"relu\"))\n",
        "model2.add(Conv2D(filters=128,kernel_size=(3,3),padding=\"same\",activation=\"relu\"))\n",
        "model2.add(MaxPooling2D(pool_size=(2,2),strides=None, padding=\"same\"))\n",
        "\n",
        "#model2.add(Dropout(0.20))\n",
        "model2.add(Flatten())\n",
        "model2.add(Dense(512,activation=\"relu\"))\n",
        "#model2.add(Dense(64,activation=\"relu\"))\n",
        "model2.add(Dense(3,activation=\"softmax\"))\n",
        "\n",
        "#Model Summary\n",
        "model2.summary()"
      ],
      "execution_count": 28,
      "outputs": [
        {
          "output_type": "stream",
          "text": [
            "Model: \"sequential_1\"\n",
            "_________________________________________________________________\n",
            "Layer (type)                 Output Shape              Param #   \n",
            "=================================================================\n",
            "conv2d_2 (Conv2D)            (None, 64, 64, 32)        320       \n",
            "_________________________________________________________________\n",
            "max_pooling2d_2 (MaxPooling2 (None, 32, 32, 32)        0         \n",
            "_________________________________________________________________\n",
            "conv2d_3 (Conv2D)            (None, 32, 32, 64)        18496     \n",
            "_________________________________________________________________\n",
            "conv2d_4 (Conv2D)            (None, 32, 32, 64)        36928     \n",
            "_________________________________________________________________\n",
            "max_pooling2d_3 (MaxPooling2 (None, 16, 16, 64)        0         \n",
            "_________________________________________________________________\n",
            "conv2d_5 (Conv2D)            (None, 16, 16, 128)       73856     \n",
            "_________________________________________________________________\n",
            "conv2d_6 (Conv2D)            (None, 16, 16, 128)       147584    \n",
            "_________________________________________________________________\n",
            "max_pooling2d_4 (MaxPooling2 (None, 8, 8, 128)         0         \n",
            "_________________________________________________________________\n",
            "flatten_1 (Flatten)          (None, 8192)              0         \n",
            "_________________________________________________________________\n",
            "dense_2 (Dense)              (None, 512)               4194816   \n",
            "_________________________________________________________________\n",
            "dense_3 (Dense)              (None, 3)                 1539      \n",
            "=================================================================\n",
            "Total params: 4,473,539\n",
            "Trainable params: 4,473,539\n",
            "Non-trainable params: 0\n",
            "_________________________________________________________________\n"
          ],
          "name": "stdout"
        }
      ]
    },
    {
      "cell_type": "code",
      "metadata": {
        "id": "5NWzTVwUxwH9"
      },
      "source": [
        "#Model Compilation (With Matrics including Macro and Micro F1 Score and AUC Score)\n",
        "opt = Adam(lr=0.0001)\n",
        "model2.compile(optimizer=opt,\n",
        "               loss=tf.losses.CategoricalCrossentropy(from_logits=False),\n",
        "               metrics=[\"AUC\",\"accuracy\",\n",
        "                        tf.metrics.AUC(multi_label=True,name='auc_multi',label_weights=[0.1,0.4,0.6]),\n",
        "                        tfa.metrics.F1Score(num_classes=3, average='macro', name=\"F1_macro\"),\n",
        "                        tfa.metrics.F1Score(num_classes=3, average='micro', name=\"F1_micro\"),\n",
        "               ])"
      ],
      "execution_count": 29,
      "outputs": []
    },
    {
      "cell_type": "code",
      "metadata": {
        "id": "07NoWWG8mLHa",
        "colab": {
          "base_uri": "https://localhost:8080/"
        },
        "outputId": "77df37d2-ad2f-4134-a43d-ff6e0be15266"
      },
      "source": [
        "#Fitting the Model\n",
        "vgg= model2.fit( X_train, y_train, \n",
        "          validation_data=(X_val,y_val), \n",
        "          callbacks=[EarlyStopping(monitor='val_loss', mode='min' , verbose =1, patience = 2)], \n",
        "          epochs=50\n",
        "          )"
      ],
      "execution_count": 30,
      "outputs": [
        {
          "output_type": "stream",
          "text": [
            "Epoch 1/50\n",
            "632/632 [==============================] - 20s 29ms/step - loss: 1.6291 - auc: 0.7610 - accuracy: 0.5724 - auc_multi: 0.7074 - F1_macro: 0.5673 - F1_micro: 0.5724 - val_loss: 0.6694 - val_auc: 0.8652 - val_accuracy: 0.6572 - val_auc_multi: 0.8164 - val_F1_macro: 0.6363 - val_F1_micro: 0.6572\n",
            "Epoch 2/50\n",
            "632/632 [==============================] - 17s 27ms/step - loss: 0.5695 - auc: 0.8981 - accuracy: 0.7169 - auc_multi: 0.8363 - F1_macro: 0.7133 - F1_micro: 0.7169 - val_loss: 0.5402 - val_auc: 0.9049 - val_accuracy: 0.7235 - val_auc_multi: 0.8420 - val_F1_macro: 0.7171 - val_F1_micro: 0.7235\n",
            "Epoch 3/50\n",
            "632/632 [==============================] - 17s 27ms/step - loss: 0.5163 - auc: 0.9175 - accuracy: 0.7500 - auc_multi: 0.8647 - F1_macro: 0.7491 - F1_micro: 0.7500 - val_loss: 0.5093 - val_auc: 0.9181 - val_accuracy: 0.7484 - val_auc_multi: 0.8659 - val_F1_macro: 0.7481 - val_F1_micro: 0.7484\n",
            "Epoch 4/50\n",
            "632/632 [==============================] - 17s 27ms/step - loss: 0.4675 - auc: 0.9335 - accuracy: 0.7812 - auc_multi: 0.8904 - F1_macro: 0.7789 - F1_micro: 0.7812 - val_loss: 0.5004 - val_auc: 0.9201 - val_accuracy: 0.7534 - val_auc_multi: 0.8657 - val_F1_macro: 0.7505 - val_F1_micro: 0.7534\n",
            "Epoch 5/50\n",
            "632/632 [==============================] - 17s 27ms/step - loss: 0.4218 - auc: 0.9463 - accuracy: 0.8015 - auc_multi: 0.9101 - F1_macro: 0.7994 - F1_micro: 0.8015 - val_loss: 0.4966 - val_auc: 0.9237 - val_accuracy: 0.7650 - val_auc_multi: 0.8741 - val_F1_macro: 0.7650 - val_F1_micro: 0.7650\n",
            "Epoch 6/50\n",
            "632/632 [==============================] - 17s 27ms/step - loss: 0.3756 - auc: 0.9582 - accuracy: 0.8324 - auc_multi: 0.9298 - F1_macro: 0.8308 - F1_micro: 0.8324 - val_loss: 0.5105 - val_auc: 0.9188 - val_accuracy: 0.7419 - val_auc_multi: 0.8765 - val_F1_macro: 0.7412 - val_F1_micro: 0.7419\n",
            "Epoch 7/50\n",
            "632/632 [==============================] - 17s 27ms/step - loss: 0.3324 - auc: 0.9681 - accuracy: 0.8616 - auc_multi: 0.9468 - F1_macro: 0.8617 - F1_micro: 0.8616 - val_loss: 0.4901 - val_auc: 0.9296 - val_accuracy: 0.7704 - val_auc_multi: 0.8833 - val_F1_macro: 0.7714 - val_F1_micro: 0.7704\n",
            "Epoch 8/50\n",
            "632/632 [==============================] - 17s 27ms/step - loss: 0.2797 - auc: 0.9774 - accuracy: 0.8827 - auc_multi: 0.9631 - F1_macro: 0.8818 - F1_micro: 0.8827 - val_loss: 0.5490 - val_auc: 0.9241 - val_accuracy: 0.7639 - val_auc_multi: 0.8803 - val_F1_macro: 0.7605 - val_F1_micro: 0.7639\n",
            "Epoch 9/50\n",
            "632/632 [==============================] - 17s 27ms/step - loss: 0.2304 - auc: 0.9851 - accuracy: 0.9119 - auc_multi: 0.9761 - F1_macro: 0.9115 - F1_micro: 0.9119 - val_loss: 0.5289 - val_auc: 0.9314 - val_accuracy: 0.7799 - val_auc_multi: 0.8857 - val_F1_macro: 0.7800 - val_F1_micro: 0.7799\n",
            "Epoch 00009: early stopping\n"
          ],
          "name": "stdout"
        }
      ]
    },
    {
      "cell_type": "markdown",
      "metadata": {
        "id": "mmvQAOr3snyi"
      },
      "source": [
        "# AlexNet Architecture\n",
        "Using the Architecture of AlexNet with Normalization, I created 5 Conv2D layers with relu activation and Padding followed by 2 MaxPooling Layer and 2 Dense Layers at end.Moreover, I also tried using Kernel and Dense Layer Absolute Weight Regularizer L1 with Bias Regularizer to avoid bias in classification tasks."
      ]
    },
    {
      "cell_type": "code",
      "metadata": {
        "id": "nVVrftGssncV"
      },
      "source": [
        "#Training Convolutional Neural Network from scratch (AlexNet)\n",
        "\n",
        "model3 =Sequential()\n",
        "model3.add(layers.experimental.preprocessing.Resizing(128, 128, interpolation=\"bilinear\", input_shape=(64,64,1)))\n",
        "model3.add(layers.Conv2D(32,kernel_size=(3,3),strides=4, padding='same'))\n",
        "model3.add(layers.Lambda(tf.nn.local_response_normalization))\n",
        "model3.add(layers.Activation('relu'))\n",
        "\n",
        "model3.add(layers.MaxPooling2D(2, strides=2))\n",
        "model3.add(layers.Conv2D(32,kernel_size=(3,3),strides=4, padding='same'))\n",
        "\n",
        "model3.add(layers.Lambda(tf.nn.local_response_normalization))\n",
        "model3.add(layers.Activation('relu'))\n",
        "model3.add(layers.MaxPooling2D(2, strides=2))\n",
        "#model3.add(layers.Dropout(0.2))\n",
        "\n",
        "model3.add(layers.Conv2D(64,kernel_size=(3,3),strides=4, padding='same'))\n",
        "model3.add(layers.Activation('relu'))\n",
        "\n",
        "model3.add(layers.Conv2D(64,kernel_size=(3,3),strides=4, padding='same'))\n",
        "model3.add(layers.Activation('relu'))\n",
        "\n",
        "model3.add(layers.Conv2D(128,kernel_size=(3,3),strides=4, padding='same'))\n",
        "model3.add(layers.Activation('relu'))\n",
        "model3.add(layers.Flatten())\n",
        "\n",
        "model3.add(layers.Dense(512, activation='relu'))\n",
        "#model3.add(layers.Dropout(0.2))\n",
        "\n",
        "model3.add(layers.Dense(1028, activation='relu'))\n",
        "model3.add(layers.Dense(3, activation='softmax'))\n",
        "#Model Summary of AlexNet Architecture\n",
        "#model3.summary()"
      ],
      "execution_count": 31,
      "outputs": []
    },
    {
      "cell_type": "code",
      "metadata": {
        "id": "NCMJHtVJsnaG"
      },
      "source": [
        "#Model Compilation (With Matrics including Macro and Micro F1 Score and AUC Score)\n",
        "opt = Adam(lr=0.0001)\n",
        "model3.compile(optimizer=opt,\n",
        "               loss=tf.losses.CategoricalCrossentropy(from_logits=False),\n",
        "               metrics=[\"AUC\",\"accuracy\",\n",
        "                        tf.metrics.AUC(multi_label=True,name='auc_multi',label_weights=[0.1,0.4,0.6]),\n",
        "                        tfa.metrics.F1Score(num_classes=3, average='macro', name=\"F1_macro\"),\n",
        "                        tfa.metrics.F1Score(num_classes=3, average='micro', name=\"F1_micro\"),\n",
        "               ])"
      ],
      "execution_count": 32,
      "outputs": []
    },
    {
      "cell_type": "code",
      "metadata": {
        "id": "IAig4XdssnSe",
        "colab": {
          "base_uri": "https://localhost:8080/"
        },
        "outputId": "f48d0223-a5f5-4f30-f08d-6e8a7d6ee5c9"
      },
      "source": [
        "#Fitting AlexNet Model\n",
        "alex= model3.fit(X_train, y_train, \n",
        "          validation_data=(X_val,y_val), \n",
        "          callbacks=[EarlyStopping(monitor='val_loss', mode='min' , verbose =1, patience = 2)], \n",
        "          epochs=30,batch_size=100\n",
        "          )"
      ],
      "execution_count": 33,
      "outputs": [
        {
          "output_type": "stream",
          "text": [
            "Epoch 1/30\n",
            "203/203 [==============================] - 9s 38ms/step - loss: 1.0823 - auc: 0.5605 - accuracy: 0.3725 - auc_multi: 0.5467 - F1_macro: 0.2400 - F1_micro: 0.3725 - val_loss: 0.8303 - val_auc: 0.7898 - val_accuracy: 0.5629 - val_auc_multi: 0.7277 - val_F1_macro: 0.5591 - val_F1_micro: 0.5629\n",
            "Epoch 2/30\n",
            "203/203 [==============================] - 7s 34ms/step - loss: 0.8001 - auc: 0.8041 - accuracy: 0.5791 - auc_multi: 0.7395 - F1_macro: 0.5599 - F1_micro: 0.5791 - val_loss: 0.7552 - val_auc: 0.8204 - val_accuracy: 0.5940 - val_auc_multi: 0.7523 - val_F1_macro: 0.5804 - val_F1_micro: 0.5940\n",
            "Epoch 3/30\n",
            "203/203 [==============================] - 7s 35ms/step - loss: 0.7421 - auc: 0.8254 - accuracy: 0.5977 - auc_multi: 0.7539 - F1_macro: 0.5867 - F1_micro: 0.5977 - val_loss: 0.7206 - val_auc: 0.8336 - val_accuracy: 0.6114 - val_auc_multi: 0.7626 - val_F1_macro: 0.5924 - val_F1_micro: 0.6114\n",
            "Epoch 4/30\n",
            "203/203 [==============================] - 7s 35ms/step - loss: 0.7077 - auc: 0.8383 - accuracy: 0.6162 - auc_multi: 0.7647 - F1_macro: 0.6033 - F1_micro: 0.6162 - val_loss: 0.6887 - val_auc: 0.8459 - val_accuracy: 0.6263 - val_auc_multi: 0.7679 - val_F1_macro: 0.6132 - val_F1_micro: 0.6263\n",
            "Epoch 5/30\n",
            "203/203 [==============================] - 7s 35ms/step - loss: 0.6837 - auc: 0.8447 - accuracy: 0.6180 - auc_multi: 0.7654 - F1_macro: 0.6032 - F1_micro: 0.6180 - val_loss: 0.6763 - val_auc: 0.8503 - val_accuracy: 0.6287 - val_auc_multi: 0.7715 - val_F1_macro: 0.6111 - val_F1_micro: 0.6287\n",
            "Epoch 6/30\n",
            "203/203 [==============================] - 7s 35ms/step - loss: 0.6623 - auc: 0.8545 - accuracy: 0.6366 - auc_multi: 0.7729 - F1_macro: 0.6155 - F1_micro: 0.6366 - val_loss: 0.6629 - val_auc: 0.8541 - val_accuracy: 0.6376 - val_auc_multi: 0.7740 - val_F1_macro: 0.6258 - val_F1_micro: 0.6376\n",
            "Epoch 7/30\n",
            "203/203 [==============================] - 7s 35ms/step - loss: 0.6436 - auc: 0.8620 - accuracy: 0.6474 - auc_multi: 0.7826 - F1_macro: 0.6281 - F1_micro: 0.6474 - val_loss: 0.6547 - val_auc: 0.8578 - val_accuracy: 0.6415 - val_auc_multi: 0.7767 - val_F1_macro: 0.6152 - val_F1_micro: 0.6415\n",
            "Epoch 8/30\n",
            "203/203 [==============================] - 7s 35ms/step - loss: 0.6377 - auc: 0.8635 - accuracy: 0.6488 - auc_multi: 0.7815 - F1_macro: 0.6267 - F1_micro: 0.6488 - val_loss: 0.6553 - val_auc: 0.8571 - val_accuracy: 0.6453 - val_auc_multi: 0.7780 - val_F1_macro: 0.6083 - val_F1_micro: 0.6453\n",
            "Epoch 9/30\n",
            "203/203 [==============================] - 7s 34ms/step - loss: 0.6374 - auc: 0.8629 - accuracy: 0.6493 - auc_multi: 0.7823 - F1_macro: 0.6235 - F1_micro: 0.6493 - val_loss: 0.6532 - val_auc: 0.8574 - val_accuracy: 0.6439 - val_auc_multi: 0.7782 - val_F1_macro: 0.6045 - val_F1_micro: 0.6439\n",
            "Epoch 10/30\n",
            "203/203 [==============================] - 7s 34ms/step - loss: 0.6261 - auc: 0.8671 - accuracy: 0.6561 - auc_multi: 0.7831 - F1_macro: 0.6274 - F1_micro: 0.6561 - val_loss: 0.6443 - val_auc: 0.8602 - val_accuracy: 0.6447 - val_auc_multi: 0.7796 - val_F1_macro: 0.6188 - val_F1_micro: 0.6447\n",
            "Epoch 11/30\n",
            "203/203 [==============================] - 7s 35ms/step - loss: 0.6197 - auc: 0.8690 - accuracy: 0.6553 - auc_multi: 0.7870 - F1_macro: 0.6298 - F1_micro: 0.6553 - val_loss: 0.6397 - val_auc: 0.8641 - val_accuracy: 0.6522 - val_auc_multi: 0.7833 - val_F1_macro: 0.6143 - val_F1_micro: 0.6522\n",
            "Epoch 12/30\n",
            "203/203 [==============================] - 7s 34ms/step - loss: 0.6122 - auc: 0.8725 - accuracy: 0.6626 - auc_multi: 0.7876 - F1_macro: 0.6271 - F1_micro: 0.6626 - val_loss: 0.6435 - val_auc: 0.8608 - val_accuracy: 0.6447 - val_auc_multi: 0.7817 - val_F1_macro: 0.6233 - val_F1_micro: 0.6447\n",
            "Epoch 13/30\n",
            "203/203 [==============================] - 7s 34ms/step - loss: 0.6056 - auc: 0.8740 - accuracy: 0.6611 - auc_multi: 0.7943 - F1_macro: 0.6409 - F1_micro: 0.6611 - val_loss: 0.6350 - val_auc: 0.8652 - val_accuracy: 0.6516 - val_auc_multi: 0.7852 - val_F1_macro: 0.6174 - val_F1_micro: 0.6516\n",
            "Epoch 14/30\n",
            "203/203 [==============================] - 7s 35ms/step - loss: 0.6254 - auc: 0.8689 - accuracy: 0.6573 - auc_multi: 0.7895 - F1_macro: 0.6326 - F1_micro: 0.6573 - val_loss: 0.6474 - val_auc: 0.8624 - val_accuracy: 0.6459 - val_auc_multi: 0.7846 - val_F1_macro: 0.6149 - val_F1_micro: 0.6459\n",
            "Epoch 15/30\n",
            "203/203 [==============================] - 7s 35ms/step - loss: 0.6016 - auc: 0.8751 - accuracy: 0.6670 - auc_multi: 0.7909 - F1_macro: 0.6436 - F1_micro: 0.6670 - val_loss: 0.6261 - val_auc: 0.8680 - val_accuracy: 0.6574 - val_auc_multi: 0.7873 - val_F1_macro: 0.6201 - val_F1_micro: 0.6574\n",
            "Epoch 16/30\n",
            "203/203 [==============================] - 7s 34ms/step - loss: 0.5998 - auc: 0.8757 - accuracy: 0.6679 - auc_multi: 0.7927 - F1_macro: 0.6451 - F1_micro: 0.6679 - val_loss: 0.6284 - val_auc: 0.8680 - val_accuracy: 0.6591 - val_auc_multi: 0.7881 - val_F1_macro: 0.6266 - val_F1_micro: 0.6591\n",
            "Epoch 17/30\n",
            "203/203 [==============================] - 7s 34ms/step - loss: 0.5918 - auc: 0.8775 - accuracy: 0.6687 - auc_multi: 0.7931 - F1_macro: 0.6494 - F1_micro: 0.6687 - val_loss: 0.6459 - val_auc: 0.8630 - val_accuracy: 0.6494 - val_auc_multi: 0.7859 - val_F1_macro: 0.6162 - val_F1_micro: 0.6494\n",
            "Epoch 00017: early stopping\n"
          ],
          "name": "stdout"
        }
      ]
    },
    {
      "cell_type": "markdown",
      "metadata": {
        "id": "q3ag65WXIY4_"
      },
      "source": [
        "# Custom CNN Architecture\n",
        "In this Architecture, I used 2 Convolutional Layers with Relu Activation followed by 1 MaxPool layer and at the end I used 2 Dense Layers."
      ]
    },
    {
      "cell_type": "code",
      "metadata": {
        "id": "5Aap7THOIW-z",
        "colab": {
          "base_uri": "https://localhost:8080/"
        },
        "outputId": "6002ad9e-6ed1-4502-c574-9bb167d6eb70"
      },
      "source": [
        "#Custom CNN Architecture\n",
        "model4 =Sequential()\n",
        "model4.add(layers.Conv2D(128, (3, 3), activation = 'relu', input_shape = (64,64,1)))\n",
        "model4.add(layers.MaxPooling2D(2, 2))\n",
        "\n",
        "\n",
        "model4.add(layers.Conv2D(256, (3, 3), activation = 'relu'))\n",
        "model4.add(layers.MaxPooling2D(2, 2))\n",
        "\n",
        "model4.add(layers.Conv2D(128, (3, 3), activation = 'relu'))\n",
        "model4.add(layers.MaxPooling2D(2, 2))\n",
        "\n",
        "model4.add(layers.Conv2D(64, (3, 3), activation = 'relu'))\n",
        "model4.add(layers.Flatten(input_shape = (64,64,1)))\n",
        "\n",
        "model4.add(layers.Dense(32, activation = 'relu'))\n",
        "model4.add(layers.Dense(16, activation = 'relu'))\n",
        "model4.add(layers.Dense(3, activation = 'softmax'))\n",
        "\n",
        "#Summary Of Model\n",
        "model4.summary()"
      ],
      "execution_count": 34,
      "outputs": [
        {
          "output_type": "stream",
          "text": [
            "Model: \"sequential_3\"\n",
            "_________________________________________________________________\n",
            "Layer (type)                 Output Shape              Param #   \n",
            "=================================================================\n",
            "conv2d_12 (Conv2D)           (None, 62, 62, 128)       1280      \n",
            "_________________________________________________________________\n",
            "max_pooling2d_7 (MaxPooling2 (None, 31, 31, 128)       0         \n",
            "_________________________________________________________________\n",
            "conv2d_13 (Conv2D)           (None, 29, 29, 256)       295168    \n",
            "_________________________________________________________________\n",
            "max_pooling2d_8 (MaxPooling2 (None, 14, 14, 256)       0         \n",
            "_________________________________________________________________\n",
            "conv2d_14 (Conv2D)           (None, 12, 12, 128)       295040    \n",
            "_________________________________________________________________\n",
            "max_pooling2d_9 (MaxPooling2 (None, 6, 6, 128)         0         \n",
            "_________________________________________________________________\n",
            "conv2d_15 (Conv2D)           (None, 4, 4, 64)          73792     \n",
            "_________________________________________________________________\n",
            "flatten_3 (Flatten)          (None, 1024)              0         \n",
            "_________________________________________________________________\n",
            "dense_7 (Dense)              (None, 32)                32800     \n",
            "_________________________________________________________________\n",
            "dense_8 (Dense)              (None, 16)                528       \n",
            "_________________________________________________________________\n",
            "dense_9 (Dense)              (None, 3)                 51        \n",
            "=================================================================\n",
            "Total params: 698,659\n",
            "Trainable params: 698,659\n",
            "Non-trainable params: 0\n",
            "_________________________________________________________________\n"
          ],
          "name": "stdout"
        }
      ]
    },
    {
      "cell_type": "code",
      "metadata": {
        "id": "fSqZhAb6JlKG"
      },
      "source": [
        "#Model Compilation (With Matrics including Macro and Micro F1 Score and AUC Score)\n",
        "opt = Adam(lr=0.0005)\n",
        "model4.compile(optimizer=opt,\n",
        "               loss=tf.losses.CategoricalCrossentropy(from_logits=False),\n",
        "               metrics=[\"AUC\",\"accuracy\",\n",
        "                        tf.metrics.AUC(multi_label=True,name='auc_multi',label_weights=[0.1,0.4,0.6]),\n",
        "                        tfa.metrics.F1Score(num_classes=3, average='macro', name=\"F1_macro\"),\n",
        "                        tfa.metrics.F1Score(num_classes=3, average='micro', name=\"F1_micro\"),\n",
        "               ])"
      ],
      "execution_count": 35,
      "outputs": []
    },
    {
      "cell_type": "code",
      "metadata": {
        "id": "ZJ1pS-wNHxTB",
        "colab": {
          "base_uri": "https://localhost:8080/"
        },
        "outputId": "ec943b1d-ee09-434a-8640-97e081a552e2"
      },
      "source": [
        "#Fitting the custom model\n",
        "custom= model4.fit(X_train, y_train, validation_data=(X_val,y_val),\n",
        "          callbacks=[EarlyStopping(monitor='val_loss', mode='min' , verbose =1, patience = 2)], \n",
        "          epochs=30)"
      ],
      "execution_count": 37,
      "outputs": [
        {
          "output_type": "stream",
          "text": [
            "Epoch 1/30\n",
            "632/632 [==============================] - 26s 41ms/step - loss: 0.6553 - auc: 0.8597 - accuracy: 0.6460 - auc_multi: 0.7799 - F1_macro: 0.6328 - F1_micro: 0.6460 - val_loss: 0.6079 - val_auc: 0.8748 - val_accuracy: 0.6669 - val_auc_multi: 0.7963 - val_F1_macro: 0.6409 - val_F1_micro: 0.6669\n",
            "Epoch 2/30\n",
            "632/632 [==============================] - 24s 39ms/step - loss: 0.6024 - auc: 0.8791 - accuracy: 0.6762 - auc_multi: 0.8015 - F1_macro: 0.6641 - F1_micro: 0.6762 - val_loss: 0.6498 - val_auc: 0.8676 - val_accuracy: 0.6637 - val_auc_multi: 0.7990 - val_F1_macro: 0.6249 - val_F1_micro: 0.6637\n",
            "Epoch 3/30\n",
            "632/632 [==============================] - 24s 39ms/step - loss: 0.5673 - auc: 0.8906 - accuracy: 0.6911 - auc_multi: 0.8144 - F1_macro: 0.6818 - F1_micro: 0.6911 - val_loss: 0.5579 - val_auc: 0.8956 - val_accuracy: 0.7035 - val_auc_multi: 0.8261 - val_F1_macro: 0.7020 - val_F1_micro: 0.7035\n",
            "Epoch 4/30\n",
            "632/632 [==============================] - 24s 39ms/step - loss: 0.5534 - auc: 0.8976 - accuracy: 0.7045 - auc_multi: 0.8271 - F1_macro: 0.6982 - F1_micro: 0.7045 - val_loss: 0.5616 - val_auc: 0.8985 - val_accuracy: 0.7152 - val_auc_multi: 0.8310 - val_F1_macro: 0.7000 - val_F1_micro: 0.7152\n",
            "Epoch 5/30\n",
            "632/632 [==============================] - 24s 39ms/step - loss: 0.5311 - auc: 0.9070 - accuracy: 0.7231 - auc_multi: 0.8404 - F1_macro: 0.7184 - F1_micro: 0.7231 - val_loss: 0.6063 - val_auc: 0.8873 - val_accuracy: 0.6954 - val_auc_multi: 0.8292 - val_F1_macro: 0.6874 - val_F1_micro: 0.6954\n",
            "Epoch 00005: early stopping\n"
          ],
          "name": "stdout"
        }
      ]
    },
    {
      "cell_type": "markdown",
      "metadata": {
        "id": "Elgtgs2Nh8P9"
      },
      "source": [
        "# Model Evaluation: Validation and Loss Graphs\n",
        "The CNN Model are evaluated using Training & Validation Loss and Accuracy Graphs and Confusion Matrix"
      ]
    },
    {
      "cell_type": "code",
      "metadata": {
        "id": "MLEjzZpRpHQE",
        "colab": {
          "base_uri": "https://localhost:8080/",
          "height": 421
        },
        "outputId": "778ec90e-0421-4479-93ba-41aa2741e38b"
      },
      "source": [
        "#Plotting Traning and Validation Loss,Accuracy of LeNet Architecture\n",
        "#Loss\n",
        "fig, axs = plt.subplots(2, 1, figsize=(4,6))\n",
        "axs[0].plot(lenet.history['loss'])\n",
        "axs[0].plot(lenet.history['val_loss'])\n",
        "axs[0].title.set_text('Training Loss vs Validation Loss')\n",
        "axs[0].set_xlabel('Epochs')\n",
        "axs[0].set_ylabel('Loss')\n",
        "axs[0].legend(['Train', 'Val'])\n",
        "\n",
        "#Accuracy\n",
        "axs[1].plot(lenet.history['accuracy'])\n",
        "axs[1].plot(lenet.history['val_accuracy'])\n",
        "axs[1].title.set_text('Training Accuracy vs Validation Accuracy')\n",
        "axs[1].set_xlabel('Epochs')\n",
        "axs[1].set_ylabel('Accuracy')\n",
        "axs[1].legend(['Train', 'Val'])"
      ],
      "execution_count": 38,
      "outputs": [
        {
          "output_type": "execute_result",
          "data": {
            "text/plain": [
              "<matplotlib.legend.Legend at 0x7fa46180b110>"
            ]
          },
          "metadata": {
            "tags": []
          },
          "execution_count": 38
        },
        {
          "output_type": "display_data",
          "data": {
            "image/png": "[encoded data removed]",
            "text/plain": [
              "<Figure size 288x432 with 2 Axes>"
            ]
          },
          "metadata": {
            "tags": []
          }
        }
      ]
    },
    {
      "cell_type": "code",
      "metadata": {
        "id": "472J_gammK_R",
        "colab": {
          "base_uri": "https://localhost:8080/",
          "height": 421
        },
        "outputId": "cba12b1b-20ab-4f33-8147-b87edf058eab"
      },
      "source": [
        "#Plotting Traning and Validation Loss,Accuracy of VGG Architecture\n",
        "#Loss\n",
        "fig, axs = plt.subplots(2, 1, figsize=(4,6))\n",
        "axs[0].plot(vgg.history['loss'])\n",
        "axs[0].plot(vgg.history['val_loss'])\n",
        "axs[0].title.set_text('Training Loss vs Validation Loss')\n",
        "axs[0].set_xlabel('Epochs')\n",
        "axs[0].set_ylabel('Loss')\n",
        "axs[0].legend(['Train', 'Val'])\n",
        "\n",
        "#Accuracy\n",
        "axs[1].plot(vgg.history['accuracy'])\n",
        "axs[1].plot(vgg.history['val_accuracy'])\n",
        "axs[1].title.set_text('Training Accuracy vs Validation Accuracy')\n",
        "axs[1].set_xlabel('Epochs')\n",
        "axs[1].set_ylabel('Accuracy')\n",
        "axs[1].legend(['Train', 'Val'])"
      ],
      "execution_count": 39,
      "outputs": [
        {
          "output_type": "execute_result",
          "data": {
            "text/plain": [
              "<matplotlib.legend.Legend at 0x7fa45e755e90>"
            ]
          },
          "metadata": {
            "tags": []
          },
          "execution_count": 39
        },
        {
          "output_type": "display_data",
          "data": {
            "image/png": "[encoded data removed]",
            "text/plain": [
              "<Figure size 288x432 with 2 Axes>"
            ]
          },
          "metadata": {
            "tags": []
          }
        }
      ]
    },
    {
      "cell_type": "code",
      "metadata": {
        "id": "eIgQOG44wJj0",
        "colab": {
          "base_uri": "https://localhost:8080/",
          "height": 421
        },
        "outputId": "f43a1075-6cd8-4c32-e55a-c0b65b2fd17b"
      },
      "source": [
        "#Plotting Traning and Validation Loss,Accuracy of AlexNet Architecture\n",
        "#Loss\n",
        "fig, axs = plt.subplots(2, 1, figsize=(4,6))\n",
        "axs[0].plot(alex.history['loss'])\n",
        "axs[0].plot(alex.history['val_loss'])\n",
        "axs[0].title.set_text('Training Loss vs Validation Loss')\n",
        "axs[0].set_xlabel('Epochs')\n",
        "axs[0].set_ylabel('Loss')\n",
        "axs[0].legend(['Train', 'Val'])\n",
        "\n",
        "#Accuracy\n",
        "axs[1].plot(alex.history['accuracy'])\n",
        "axs[1].plot(alex.history['val_accuracy'])\n",
        "axs[1].title.set_text('Training Accuracy vs Validation Accuracy')\n",
        "axs[1].set_xlabel('Epochs')\n",
        "axs[1].set_ylabel('Accuracy')\n",
        "axs[1].legend(['Train', 'Val'])"
      ],
      "execution_count": 40,
      "outputs": [
        {
          "output_type": "execute_result",
          "data": {
            "text/plain": [
              "<matplotlib.legend.Legend at 0x7fa45e6428d0>"
            ]
          },
          "metadata": {
            "tags": []
          },
          "execution_count": 40
        },
        {
          "output_type": "display_data",
          "data": {
            "image/png": "[encoded data removed]",
            "text/plain": [
              "<Figure size 288x432 with 2 Axes>"
            ]
          },
          "metadata": {
            "tags": []
          }
        }
      ]
    },
    {
      "cell_type": "code",
      "metadata": {
        "id": "wWfc8mZZhipB",
        "colab": {
          "base_uri": "https://localhost:8080/",
          "height": 421
        },
        "outputId": "683013c4-5502-4dd4-b36a-38c4ffa080ef"
      },
      "source": [
        "#Plotting Traning and Validation Loss,Accuracy of custom Architecture\n",
        "#Loss\n",
        "fig, axs = plt.subplots(2, 1, figsize=(4,6))\n",
        "axs[0].plot(custom.history['loss'])\n",
        "axs[0].plot(custom.history['val_loss'])\n",
        "axs[0].title.set_text('Training Loss vs Validation Loss')\n",
        "axs[0].set_xlabel('Epochs')\n",
        "axs[0].set_ylabel('Loss')\n",
        "axs[0].legend(['Train', 'Val'])\n",
        "\n",
        "#Accuracy\n",
        "axs[1].plot(custom.history['accuracy'])\n",
        "axs[1].plot(custom.history['val_accuracy'])\n",
        "axs[1].title.set_text('Training Accuracy vs Validation Accuracy')\n",
        "axs[1].set_xlabel('Epochs')\n",
        "axs[1].set_ylabel('Accuracy')\n",
        "axs[1].legend(['Train', 'Val'])"
      ],
      "execution_count": 41,
      "outputs": [
        {
          "output_type": "execute_result",
          "data": {
            "text/plain": [
              "<matplotlib.legend.Legend at 0x7fa45e599890>"
            ]
          },
          "metadata": {
            "tags": []
          },
          "execution_count": 41
        },
        {
          "output_type": "display_data",
          "data": {
            "image/png": "[encoded data removed]",
            "text/plain": [
              "<Figure size 288x432 with 2 Axes>"
            ]
          },
          "metadata": {
            "tags": []
          }
        }
      ]
    },
    {
      "cell_type": "markdown",
      "metadata": {
        "id": "OSNIPL35iDuT"
      },
      "source": [
        "# Confusion Matrix, AUC Score, F1 Macro \n",
        "Using Confusion matrix, I calculated effective matrix such as F1 Macro, Accuracy and AUC Score on Test Data. \n"
      ]
    },
    {
      "cell_type": "markdown",
      "metadata": {
        "id": "nMbYGv-C4sxe"
      },
      "source": [
        "**LeNet-5 Model Score**"
      ]
    },
    {
      "cell_type": "code",
      "metadata": {
        "id": "R1B68IO3hqze",
        "colab": {
          "base_uri": "https://localhost:8080/"
        },
        "outputId": "a2507e6b-e0b8-469e-869a-f04aaacc744b"
      },
      "source": [
        "#Prediction for LeNet-5 Model:\n",
        "lenet_pred = model.predict_classes(X_test, batch_size=128, verbose=0)\n",
        "lenet_pred[7]"
      ],
      "execution_count": 42,
      "outputs": [
        {
          "output_type": "stream",
          "text": [
            "/usr/local/lib/python3.7/dist-packages/tensorflow/python/keras/engine/sequential.py:450: UserWarning: `model.predict_classes()` is deprecated and will be removed after 2021-01-01. Please use instead:* `np.argmax(model.predict(x), axis=-1)`,   if your model does multi-class classification   (e.g. if it uses a `softmax` last-layer activation).* `(model.predict(x) > 0.5).astype(\"int32\")`,   if your model does binary classification   (e.g. if it uses a `sigmoid` last-layer activation).\n",
            "  warnings.warn('`model.predict_classes()` is deprecated and '\n"
          ],
          "name": "stderr"
        },
        {
          "output_type": "execute_result",
          "data": {
            "text/plain": [
              "0"
            ]
          },
          "metadata": {
            "tags": []
          },
          "execution_count": 42
        }
      ]
    },
    {
      "cell_type": "code",
      "metadata": {
        "id": "kgVqHbmgqm6v",
        "colab": {
          "base_uri": "https://localhost:8080/"
        },
        "outputId": "58018344-edd0-4051-d617-13d9b4364295"
      },
      "source": [
        "#Converting Matrix Labels data to Single Digit\n",
        "sin_labels=np.argmax(y_test, axis=1)\n",
        "sin_labels[13]"
      ],
      "execution_count": 43,
      "outputs": [
        {
          "output_type": "execute_result",
          "data": {
            "text/plain": [
              "0"
            ]
          },
          "metadata": {
            "tags": []
          },
          "execution_count": 43
        }
      ]
    },
    {
      "cell_type": "code",
      "metadata": {
        "id": "HjrwaFpoqmHr",
        "colab": {
          "base_uri": "https://localhost:8080/"
        },
        "outputId": "ca859550-f2c6-4ae0-d104-dd63d4da6671"
      },
      "source": [
        "#Confusion Matrix for LeNet-5 Model:\n",
        "from sklearn.metrics import confusion_matrix\n",
        "cm1 = confusion_matrix(sin_labels, lenet_pred)\n",
        "cm1"
      ],
      "execution_count": 44,
      "outputs": [
        {
          "output_type": "execute_result",
          "data": {
            "text/plain": [
              "array([[1955,  193,   11],\n",
              "       [ 103, 1654,  323],\n",
              "       [  43, 1427,  606]])"
            ]
          },
          "metadata": {
            "tags": []
          },
          "execution_count": 44
        }
      ]
    },
    {
      "cell_type": "code",
      "metadata": {
        "id": "leAhLSU24Wwq",
        "colab": {
          "base_uri": "https://localhost:8080/"
        },
        "outputId": "a06e9db2-10da-413b-cfe3-8aa51188ea70"
      },
      "source": [
        "# Calculating F1-score for LeNet-5 CNN Model\n",
        "print(\"F1-score of LeNet-5 Model:\",f1_score(sin_labels,lenet_pred, average='macro'))"
      ],
      "execution_count": 45,
      "outputs": [
        {
          "output_type": "stream",
          "text": [
            "F1-score of LeNet-5 Model: 0.6458509827512373\n"
          ],
          "name": "stdout"
        }
      ]
    },
    {
      "cell_type": "code",
      "metadata": {
        "id": "DBphIo2_4Wq3",
        "colab": {
          "base_uri": "https://localhost:8080/"
        },
        "outputId": "08d5d274-b5cb-4471-e002-6924ba946ccd"
      },
      "source": [
        "# Calculating AUC Score for LeNet-5 CNN Model\n",
        "from sklearn.metrics import f1_score, confusion_matrix, accuracy_score, roc_auc_score\n",
        "print(\"AUC Score of LeNet-5  Model:\",roc_auc_score(sin_labels,model.predict_proba(X_test),multi_class='ovr'))"
      ],
      "execution_count": 47,
      "outputs": [
        {
          "output_type": "stream",
          "text": [
            "/usr/local/lib/python3.7/dist-packages/tensorflow/python/keras/engine/sequential.py:425: UserWarning: `model.predict_proba()` is deprecated and will be removed after 2021-01-01. Please use `model.predict()` instead.\n",
            "  warnings.warn('`model.predict_proba()` is deprecated and '\n"
          ],
          "name": "stderr"
        },
        {
          "output_type": "stream",
          "text": [
            "AUC Score of LeNet-5  Model: 0.8572201371736329\n"
          ],
          "name": "stdout"
        }
      ]
    },
    {
      "cell_type": "markdown",
      "metadata": {
        "id": "_tsRMHe344KL"
      },
      "source": [
        "**VGGNet Model Score**"
      ]
    },
    {
      "cell_type": "code",
      "metadata": {
        "id": "YElEPRNSqmAp",
        "colab": {
          "base_uri": "https://localhost:8080/"
        },
        "outputId": "07ed30cf-b9b7-44b7-b4fe-326a694e0d0e"
      },
      "source": [
        "#Prediction for VGGNet Model:\n",
        "vgg_pred = model2.predict_classes(X_test, batch_size=128, verbose=0)\n",
        "vgg_pred[7]"
      ],
      "execution_count": 48,
      "outputs": [
        {
          "output_type": "stream",
          "text": [
            "/usr/local/lib/python3.7/dist-packages/tensorflow/python/keras/engine/sequential.py:450: UserWarning: `model.predict_classes()` is deprecated and will be removed after 2021-01-01. Please use instead:* `np.argmax(model.predict(x), axis=-1)`,   if your model does multi-class classification   (e.g. if it uses a `softmax` last-layer activation).* `(model.predict(x) > 0.5).astype(\"int32\")`,   if your model does binary classification   (e.g. if it uses a `sigmoid` last-layer activation).\n",
            "  warnings.warn('`model.predict_classes()` is deprecated and '\n"
          ],
          "name": "stderr"
        },
        {
          "output_type": "execute_result",
          "data": {
            "text/plain": [
              "0"
            ]
          },
          "metadata": {
            "tags": []
          },
          "execution_count": 48
        }
      ]
    },
    {
      "cell_type": "code",
      "metadata": {
        "id": "vOd5iT08qlyC",
        "colab": {
          "base_uri": "https://localhost:8080/"
        },
        "outputId": "4e394375-e3ef-48b1-d270-d650a30550ce"
      },
      "source": [
        "#Confusion Matrix for VGGNet Model:\n",
        "from sklearn.metrics import confusion_matrix\n",
        "cm2 = confusion_matrix(sin_labels, vgg_pred)\n",
        "cm2"
      ],
      "execution_count": 49,
      "outputs": [
        {
          "output_type": "execute_result",
          "data": {
            "text/plain": [
              "array([[2085,   70,    4],\n",
              "       [ 122, 1352,  606],\n",
              "       [  28,  574, 1474]])"
            ]
          },
          "metadata": {
            "tags": []
          },
          "execution_count": 49
        }
      ]
    },
    {
      "cell_type": "code",
      "metadata": {
        "id": "Gnm-nzFE49ol",
        "colab": {
          "base_uri": "https://localhost:8080/"
        },
        "outputId": "b8dae6b8-dd27-4726-d498-6a165756f0d4"
      },
      "source": [
        "# Calculating F1-score for VGGNet CNN Model\n",
        "print(\"F1-score of VGGNet Model:\",f1_score(sin_labels,vgg_pred, average='macro'))"
      ],
      "execution_count": 50,
      "outputs": [
        {
          "output_type": "stream",
          "text": [
            "F1-score of VGGNet Model: 0.7736902415775281\n"
          ],
          "name": "stdout"
        }
      ]
    },
    {
      "cell_type": "code",
      "metadata": {
        "id": "cLYrD_S-49g7",
        "colab": {
          "base_uri": "https://localhost:8080/"
        },
        "outputId": "23986747-d0c1-48b1-fd51-56d49207f461"
      },
      "source": [
        "# Calculating AUC Score for VGGNet CNN Model\n",
        "print(\"AUC Score of VGGNet  Model:\",roc_auc_score(sin_labels,model2.predict_proba(X_test),multi_class='ovr'))"
      ],
      "execution_count": 51,
      "outputs": [
        {
          "output_type": "stream",
          "text": [
            "/usr/local/lib/python3.7/dist-packages/tensorflow/python/keras/engine/sequential.py:425: UserWarning: `model.predict_proba()` is deprecated and will be removed after 2021-01-01. Please use `model.predict()` instead.\n",
            "  warnings.warn('`model.predict_proba()` is deprecated and '\n"
          ],
          "name": "stderr"
        },
        {
          "output_type": "stream",
          "text": [
            "AUC Score of VGGNet  Model: 0.9119678275542618\n"
          ],
          "name": "stdout"
        }
      ]
    },
    {
      "cell_type": "markdown",
      "metadata": {
        "id": "ipQUUDKS5M2L"
      },
      "source": [
        "**AlexNet Model Score**"
      ]
    },
    {
      "cell_type": "code",
      "metadata": {
        "id": "SFfoRjNWZTcT",
        "colab": {
          "base_uri": "https://localhost:8080/"
        },
        "outputId": "c703d2c1-9551-48a7-960c-6e1b118db788"
      },
      "source": [
        "#Prediction for AlexNet Model:\n",
        "alex_pred = model3.predict_classes(X_test, batch_size=128, verbose=0)\n",
        "alex_pred[7]"
      ],
      "execution_count": 52,
      "outputs": [
        {
          "output_type": "stream",
          "text": [
            "/usr/local/lib/python3.7/dist-packages/tensorflow/python/keras/engine/sequential.py:450: UserWarning: `model.predict_classes()` is deprecated and will be removed after 2021-01-01. Please use instead:* `np.argmax(model.predict(x), axis=-1)`,   if your model does multi-class classification   (e.g. if it uses a `softmax` last-layer activation).* `(model.predict(x) > 0.5).astype(\"int32\")`,   if your model does binary classification   (e.g. if it uses a `sigmoid` last-layer activation).\n",
            "  warnings.warn('`model.predict_classes()` is deprecated and '\n"
          ],
          "name": "stderr"
        },
        {
          "output_type": "execute_result",
          "data": {
            "text/plain": [
              "0"
            ]
          },
          "metadata": {
            "tags": []
          },
          "execution_count": 52
        }
      ]
    },
    {
      "cell_type": "code",
      "metadata": {
        "id": "qewqD2CAZTZL",
        "colab": {
          "base_uri": "https://localhost:8080/"
        },
        "outputId": "2b23f779-1239-45fd-e288-245e31dd0e79"
      },
      "source": [
        "#Confusion Matrix for AlexNet Model:\n",
        "from sklearn.metrics import confusion_matrix\n",
        "cm3 = confusion_matrix(sin_labels, alex_pred)\n",
        "cm3"
      ],
      "execution_count": 53,
      "outputs": [
        {
          "output_type": "execute_result",
          "data": {
            "text/plain": [
              "array([[2099,   57,    3],\n",
              "       [ 348,  553, 1179],\n",
              "       [ 128,  472, 1476]])"
            ]
          },
          "metadata": {
            "tags": []
          },
          "execution_count": 53
        }
      ]
    },
    {
      "cell_type": "code",
      "metadata": {
        "id": "cw1YzG5l5T6I",
        "colab": {
          "base_uri": "https://localhost:8080/"
        },
        "outputId": "a580e854-0863-4084-96cc-bcf2e78d83fd"
      },
      "source": [
        "# Calculating F1-score for AlexNet CNN Model\n",
        "print(\"F1-score of AlexNet Model:\",f1_score(sin_labels,alex_pred, average='macro'))"
      ],
      "execution_count": 54,
      "outputs": [
        {
          "output_type": "stream",
          "text": [
            "F1-score of AlexNet Model: 0.6200430919877388\n"
          ],
          "name": "stdout"
        }
      ]
    },
    {
      "cell_type": "code",
      "metadata": {
        "id": "itggKuLH5Ty1",
        "colab": {
          "base_uri": "https://localhost:8080/"
        },
        "outputId": "f03db05c-436d-4f1d-9c34-e88e239ed000"
      },
      "source": [
        "# Calculating AUC Score for AlexNet CNN Model\n",
        "print(\"AUC Score of AlexNet  Model:\",roc_auc_score(sin_labels,model3.predict_proba(X_test),multi_class='ovr'))"
      ],
      "execution_count": 55,
      "outputs": [
        {
          "output_type": "stream",
          "text": [
            "/usr/local/lib/python3.7/dist-packages/tensorflow/python/keras/engine/sequential.py:425: UserWarning: `model.predict_proba()` is deprecated and will be removed after 2021-01-01. Please use `model.predict()` instead.\n",
            "  warnings.warn('`model.predict_proba()` is deprecated and '\n"
          ],
          "name": "stderr"
        },
        {
          "output_type": "stream",
          "text": [
            "AUC Score of AlexNet  Model: 0.8360203494012474\n"
          ],
          "name": "stdout"
        }
      ]
    },
    {
      "cell_type": "markdown",
      "metadata": {
        "id": "afUUTvB85lBt"
      },
      "source": [
        "**Custom Model Score**"
      ]
    },
    {
      "cell_type": "code",
      "metadata": {
        "id": "3PqVFPsYZTRv",
        "colab": {
          "base_uri": "https://localhost:8080/"
        },
        "outputId": "c501fb9a-0849-4238-e4ce-0a6ef5b7c20b"
      },
      "source": [
        "#Prediction for Custom Model:\n",
        "custom_pred = model4.predict_classes(X_test, batch_size=128, verbose=0)\n",
        "custom_pred[7]"
      ],
      "execution_count": 56,
      "outputs": [
        {
          "output_type": "stream",
          "text": [
            "/usr/local/lib/python3.7/dist-packages/tensorflow/python/keras/engine/sequential.py:450: UserWarning: `model.predict_classes()` is deprecated and will be removed after 2021-01-01. Please use instead:* `np.argmax(model.predict(x), axis=-1)`,   if your model does multi-class classification   (e.g. if it uses a `softmax` last-layer activation).* `(model.predict(x) > 0.5).astype(\"int32\")`,   if your model does binary classification   (e.g. if it uses a `sigmoid` last-layer activation).\n",
            "  warnings.warn('`model.predict_classes()` is deprecated and '\n"
          ],
          "name": "stderr"
        },
        {
          "output_type": "execute_result",
          "data": {
            "text/plain": [
              "0"
            ]
          },
          "metadata": {
            "tags": []
          },
          "execution_count": 56
        }
      ]
    },
    {
      "cell_type": "code",
      "metadata": {
        "id": "o6Yylin3ZTO-",
        "colab": {
          "base_uri": "https://localhost:8080/"
        },
        "outputId": "6bd1b0de-cd95-423d-8a66-4d46afd4c8ea"
      },
      "source": [
        "#Confusion Matrix for Custom Model:\n",
        "from sklearn.metrics import confusion_matrix\n",
        "cm4 = confusion_matrix(sin_labels, custom_pred)\n",
        "cm4"
      ],
      "execution_count": 57,
      "outputs": [
        {
          "output_type": "execute_result",
          "data": {
            "text/plain": [
              "array([[1856,  256,   47],\n",
              "       [  63,  827, 1190],\n",
              "       [  17,  344, 1715]])"
            ]
          },
          "metadata": {
            "tags": []
          },
          "execution_count": 57
        }
      ]
    },
    {
      "cell_type": "code",
      "metadata": {
        "id": "ZJKgjsdB5pqe",
        "colab": {
          "base_uri": "https://localhost:8080/"
        },
        "outputId": "494fc95c-5223-44db-9508-a20606ab442e"
      },
      "source": [
        "# Calculating F1-score for Custom CNN Model\n",
        "print(\"F1-score of Custom Model:\",f1_score(sin_labels,custom_pred, average='macro'))"
      ],
      "execution_count": 58,
      "outputs": [
        {
          "output_type": "stream",
          "text": [
            "F1-score of Custom Model: 0.6867597572855315\n"
          ],
          "name": "stdout"
        }
      ]
    },
    {
      "cell_type": "code",
      "metadata": {
        "id": "jJn6NrKe5pi9",
        "colab": {
          "base_uri": "https://localhost:8080/"
        },
        "outputId": "e46aafe0-9bc2-44d8-c321-d1bfa8b7b96e"
      },
      "source": [
        "# Calculating AUC Score for Custom CNN Model\n",
        "print(\"AUC Score of Custom  Model:\",roc_auc_score(sin_labels,model4.predict_proba(X_test),multi_class='ovr'))"
      ],
      "execution_count": 59,
      "outputs": [
        {
          "output_type": "stream",
          "text": [
            "/usr/local/lib/python3.7/dist-packages/tensorflow/python/keras/engine/sequential.py:425: UserWarning: `model.predict_proba()` is deprecated and will be removed after 2021-01-01. Please use `model.predict()` instead.\n",
            "  warnings.warn('`model.predict_proba()` is deprecated and '\n"
          ],
          "name": "stderr"
        },
        {
          "output_type": "stream",
          "text": [
            "AUC Score of Custom  Model: 0.871115548245681\n"
          ],
          "name": "stdout"
        }
      ]
    },
    {
      "cell_type": "markdown",
      "metadata": {
        "id": "3kQklBhgvJwj"
      },
      "source": [
        "# Confusion Matrix Accuracy\n",
        "I calculated Accuracy using Confusion Matrix to evaluate the performance.For accuracy, I divided sum of diagonal element by sum of all elements."
      ]
    },
    {
      "cell_type": "code",
      "metadata": {
        "id": "DpPxnuskvJXF",
        "colab": {
          "base_uri": "https://localhost:8080/"
        },
        "outputId": "d1eafaab-b36f-40fb-e448-d0a4a3f3d959"
      },
      "source": [
        "#Function Calculate Accuracy\n",
        "def accuracy(confusion_matrix):\n",
        "    diagonal_sum = confusion_matrix.trace()\n",
        "    sum_of_all_elements = confusion_matrix.sum()\n",
        "    return diagonal_sum / sum_of_all_elements \n",
        "print(\"Accuracy of Model:\",accuracy(cm2))"
      ],
      "execution_count": 61,
      "outputs": [
        {
          "output_type": "stream",
          "text": [
            "Accuracy of Model: 0.7776722090261282\n"
          ],
          "name": "stdout"
        }
      ]
    },
    {
      "cell_type": "markdown",
      "metadata": {
        "id": "_ObRztSEhjWx"
      },
      "source": [
        "# Kaggle Challenge"
      ]
    },
    {
      "cell_type": "code",
      "metadata": {
        "id": "I_aIT5GbmKu_"
      },
      "source": [
        "#Loading Kaggle Dataset\n",
        "kaggle=np.load('/content/drive/MyDrive/Colab Data/ps4_kaggle_images.npy')\n",
        "kaggle.shape"
      ],
      "execution_count": null,
      "outputs": []
    },
    {
      "cell_type": "code",
      "metadata": {
        "id": "ureQXx8wm7eU"
      },
      "source": [
        "#Predicting the Classification of Kaggle Dataset and converting it into Dataframe\n",
        "kag_label = model2.predict_classes(kaggle)\n",
        "kag_predict = pd.DataFrame()\n",
        "kag_predict[\"Predicted\"]=kag_label"
      ],
      "execution_count": null,
      "outputs": []
    },
    {
      "cell_type": "code",
      "metadata": {
        "id": "bvqWzfMFm7aW"
      },
      "source": [
        "kag_predict"
      ],
      "execution_count": null,
      "outputs": []
    },
    {
      "cell_type": "code",
      "metadata": {
        "id": "fh2rKGuhm7XL"
      },
      "source": [
        "#Converting to CSV Format\n",
        "#kag_predict.to_csv(\"tryy.csv\")"
      ],
      "execution_count": null,
      "outputs": []
    },
    {
      "cell_type": "code",
      "metadata": {
        "id": "FP5LoRx1uFOv"
      },
      "source": [
        "#from google.colab import files\n",
        "#files.download(\"tryy.csv\")"
      ],
      "execution_count": null,
      "outputs": []
    },
    {
      "cell_type": "code",
      "metadata": {
        "id": "C-WzjeG5UEd-"
      },
      "source": [
        ""
      ],
      "execution_count": null,
      "outputs": []
    }
  ]
}